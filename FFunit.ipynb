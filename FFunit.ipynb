{
 "cells": [
  {
   "cell_type": "markdown",
   "id": "9d15f39e",
   "metadata": {},
   "source": [
    "# Ford Fulkerson for Unit Weights"
   ]
  },
  {
   "cell_type": "code",
   "execution_count": 1,
   "id": "b3d1f754",
   "metadata": {},
   "outputs": [],
   "source": [
    "# Python program for implementation of Ford Fulkerson algorithm\n",
    "from collections import defaultdict\n",
    "import math"
   ]
  },
  {
   "cell_type": "code",
   "execution_count": 2,
   "id": "de5f7204",
   "metadata": {},
   "outputs": [],
   "source": [
    "adjlist = {}  #dictionary to save the graph\n",
    "edge_count_before_mf = 0\n",
    "#function to add edges between nodes with unit capacity(weight = 1)\n",
    "def add_edge(node1, node2, weight=1):\n",
    "    \n",
    "    node1 = node1\n",
    "    node2 = node2\n",
    "    global edge_count_before_mf\n",
    "    edge_count_before_mf = edge_count_before_mf + 1\n",
    "\n",
    "    temp = []\n",
    "    if node1 in adjlist:\n",
    "        temp.extend(adjlist[node1])\n",
    "        temp.append([node2,weight])\n",
    "        adjlist[node1] = temp\n",
    "\n",
    "    elif node1 not in adjlist:\n",
    "        temp.append([node2,weight])\n",
    "        adjlist[node1] = temp   \n",
    "          "
   ]
  },
  {
   "cell_type": "code",
   "execution_count": 3,
   "id": "e0d55b02",
   "metadata": {},
   "outputs": [],
   "source": [
    "def listhandler(adjlist):\n",
    "    grid = []\n",
    "    for x in range(len(adjlist)+1):\n",
    "        grid_in = []\n",
    "        for y in range(len(adjlist)+1):\n",
    "            val = 0\n",
    "            grid_in.append(val)\n",
    "        grid.append(grid_in)\n",
    "    for key in adjlist:\n",
    "        for val in adjlist[key]:\n",
    "            ind = val[0]\n",
    "            grid[key][ind] = val[1]\n",
    "    return grid"
   ]
  },
  {
   "cell_type": "code",
   "execution_count": 4,
   "id": "69601edd",
   "metadata": {},
   "outputs": [],
   "source": [
    "#function to print nodes and edges in graph\n",
    "\n",
    "def print_graph():\n",
    "    print(\"Following is Adjacency list representation of Graph\")\n",
    "    for node in adjlist:\n",
    "        print(node, \" -> \", [i for i in adjlist[node]])\n"
   ]
  },
  {
   "cell_type": "code",
   "execution_count": 5,
   "id": "f46236be",
   "metadata": {},
   "outputs": [
    {
     "name": "stdout",
     "output_type": "stream",
     "text": [
      "Following is Adjacency list representation of Graph\n",
      "0  ->  [[1, 1], [2, 1]]\n",
      "1  ->  [[2, 1], [3, 1]]\n",
      "2  ->  [[4, 1]]\n",
      "3  ->  [[2, 1], [5, 1]]\n",
      "4  ->  [[3, 1], [5, 1]]\n",
      "Max Flow from 0 to 5 is 2\n"
     ]
    }
   ],
   "source": [
    "#main class\n",
    "\n",
    "class Graph:\n",
    " \n",
    "    def __init__(self, graph):\n",
    "        self.graph = graph  # residual graph\n",
    "        self. ROW = len(graph)   #length of Graph\n",
    "    \n",
    "    #Breadth first search to find a path between two specified nodes\n",
    "    def BFS(self, start, target, parent):\n",
    " \n",
    "        # Mark every node as not visited\n",
    "        visited = [False]*(self.ROW)\n",
    " \n",
    "        # Queue for BFS\n",
    "        queue = []\n",
    " \n",
    "        # Append the 1st node(source node) in queue and mark it as visited\n",
    "        queue.append(start)\n",
    "        visited[start] = True\n",
    " \n",
    "         # Standard BFS Loop\n",
    "        while queue:\n",
    " \n",
    "            # Dequeue a node from queue and print it\n",
    "            u = queue.pop(0)\n",
    "             \n",
    "            # loop to check whether there is a path from given source to sink\n",
    "            for ind, val in enumerate(self.graph[u]):\n",
    "                if visited[ind] == False and val > 0:\n",
    "                    queue.append(ind)\n",
    "                    visited[ind] = True\n",
    "                    parent[ind] = u\n",
    "                    if ind == target:\n",
    "                        return True  # if path found from source to sink\n",
    "\n",
    "        return False    \n",
    "    \n",
    "    # Implementing Ford-Fulkerson Algorith to compute max flow\n",
    "    def FordFulkerson(self, source, sink):\n",
    "        parent = [-1]*(self.ROW)\n",
    "        max_flow = 0 \n",
    " \n",
    "        # Augmenting the flow while there is path from source to sink\n",
    "        while self.BFS(source, sink, parent) :\n",
    " \n",
    "            path_flow = float(\"Inf\")\n",
    "            t = sink\n",
    "            while(t !=  source):\n",
    "                path_flow = min (path_flow, self.graph[parent[t]][t])\n",
    "                t = parent[t]\n",
    " \n",
    "            # Adding path flow to compute the max flow \n",
    "            max_flow +=  path_flow\n",
    " \n",
    "            # to update residual capacities of the edges and reverse edges\n",
    "            v = sink\n",
    "            while(v !=  source):\n",
    "                u = parent[v]\n",
    "                self.graph[u][v] -= path_flow\n",
    "                self.graph[v][u] += path_flow\n",
    "                v = parent[v]\n",
    " \n",
    "        return max_flow\n",
    "\n",
    "#Add the edges between nodes with unit capacity(weight = 1)\n",
    "add_edge(0, 1)\n",
    "add_edge(0, 2)\n",
    "\n",
    "add_edge(1, 2)\n",
    "add_edge(1, 3)\n",
    "\n",
    "add_edge(2, 4)\n",
    "\n",
    "add_edge(3, 2)\n",
    "add_edge(3, 5)\n",
    "\n",
    "add_edge(4, 3)\n",
    "add_edge(4, 5)\n",
    "\n",
    "graph = listhandler(adjlist)\n",
    "\n",
    "print_graph()\n",
    "g = Graph(graph)\n",
    "\n",
    "source = 0; sink = 5\n",
    "maxflow = g.FordFulkerson(source, sink)  \n",
    "\n",
    "print(f\"Max Flow from {source} to {sink} is\" , maxflow)"
   ]
  },
  {
   "cell_type": "code",
   "execution_count": 6,
   "id": "7a9e7ca3",
   "metadata": {},
   "outputs": [],
   "source": [
    "#Incremental Single Source Reachablility(INCSSR)\n",
    "\n",
    "def reach(u, adjlist, source, sink):\n",
    "    if u == sink:\n",
    "        print('node',u,'is present in graph and is reachable from source',source)\n",
    "        return True\n",
    "    else:\n",
    "        if u in adjlist:\n",
    "            print('node',u,'is present in graph and is reachable from source',source)\n",
    "            return True\n",
    "        else:\n",
    "            print('node',u,'does not exist in graph')\n",
    "            return False"
   ]
  },
  {
   "cell_type": "code",
   "execution_count": 7,
   "id": "510a9001",
   "metadata": {},
   "outputs": [],
   "source": [
    "#add edge to an underlying graph\n",
    "edge_count_after_mf = 0\n",
    "\n",
    "def add_edge_in_underlying_graph(node1, node2, weight=1):\n",
    "    node1 = node1\n",
    "    node2 = node2\n",
    "    global edge_count_after_mf\n",
    "    edge_count_after_mf = edge_count_after_mf + 1    #counter to count the number of times new edge has been inserted in an underlying graph\n",
    "    \n",
    "    temp = []\n",
    "    if node1 in adjlist:\n",
    "        temp.extend(adjlist[node1])\n",
    "        temp.append([node2,weight])\n",
    "        adjlist[node1] = temp\n",
    "\n",
    "    elif node1 not in adjlist:\n",
    "        temp.append([node2,weight])\n",
    "        adjlist[node1] = temp"
   ]
  },
  {
   "cell_type": "code",
   "execution_count": 8,
   "id": "e5f411ec",
   "metadata": {},
   "outputs": [],
   "source": [
    "#adding edges\n",
    "add_edge_in_underlying_graph(1,4)\n",
    "add_edge_in_underlying_graph(2,3)\n",
    "\n",
    "atmost_maxflow = edge_count_after_mf + maxflow\n",
    "#print(atmost_maxflow)"
   ]
  },
  {
   "cell_type": "code",
   "execution_count": 9,
   "id": "2b323d49",
   "metadata": {},
   "outputs": [
    {
     "name": "stdout",
     "output_type": "stream",
     "text": [
      "Graph after adding edge(s)\n",
      "Following is Adjacency list representation of Graph\n",
      "0  ->  [[1, 1], [2, 1]]\n",
      "1  ->  [[2, 1], [3, 1], [4, 1]]\n",
      "2  ->  [[4, 1], [3, 1]]\n",
      "3  ->  [[2, 1], [5, 1]]\n",
      "4  ->  [[3, 1], [5, 1]]\n"
     ]
    }
   ],
   "source": [
    "print(\"Graph after adding edge(s)\")\n",
    "print_graph()"
   ]
  },
  {
   "cell_type": "code",
   "execution_count": 10,
   "id": "7be91674",
   "metadata": {},
   "outputs": [
    {
     "name": "stdout",
     "output_type": "stream",
     "text": [
      "node 4 is present in graph and is reachable from source 0\n"
     ]
    }
   ],
   "source": [
    "is_reachable = reach(4, adjlist, source, sink)"
   ]
  },
  {
   "cell_type": "code",
   "execution_count": 11,
   "id": "898fe5d0",
   "metadata": {},
   "outputs": [
    {
     "name": "stdout",
     "output_type": "stream",
     "text": [
      "After edge insertion in the underlying graph, the maxflow value can be increased by atmost 2\n",
      "The total maximum flow which could occur in graph after edge(s) insertion is atmost 4\n"
     ]
    }
   ],
   "source": [
    "#Incremental Bounded Maximum Flow(INCBMF) \n",
    "\n",
    "if is_reachable is True:\n",
    "    print(\"After edge insertion in the underlying graph, the maxflow value can be increased by atmost\",edge_count_after_mf)\n",
    "    print(\"The total maximum flow which could occur in graph after edge(s) insertion is atmost\",atmost_maxflow)\n",
    "    \n",
    "else:\n",
    "    print(\"Maxflow cannot be increased\")"
   ]
  },
  {
   "cell_type": "code",
   "execution_count": 12,
   "id": "58c90c46",
   "metadata": {},
   "outputs": [],
   "source": [
    "#value which stores the square root of total number of edges \n",
    "edge_root = round(math.sqrt(edge_count_before_mf+edge_count_after_mf))\n",
    "check = 0\n",
    "#print(edge_root)\n",
    "#print(\"**********\")\n",
    "#print(atmost_maxflow)"
   ]
  },
  {
   "cell_type": "code",
   "execution_count": 13,
   "id": "dfd9fbd4",
   "metadata": {},
   "outputs": [
    {
     "name": "stdout",
     "output_type": "stream",
     "text": [
      "The maxflow value after edge insertion is estimated to be 2\n"
     ]
    }
   ],
   "source": [
    "#Incremental Aprroximate Maximum Flow(INCAPPROXMF)\n",
    "\n",
    "if atmost_maxflow <= edge_root:\n",
    "    print(\"The maxflow value after edge insertion is\",atmost_maxflow)\n",
    "    \n",
    "else:\n",
    "    check = check + 1\n",
    "    print(\"The maxflow value after edge insertion is estimated to be\",maxflow)\n",
    "    check = 0"
   ]
  },
  {
   "cell_type": "code",
   "execution_count": null,
   "id": "b0cc232a",
   "metadata": {},
   "outputs": [],
   "source": []
  }
 ],
 "metadata": {
  "kernelspec": {
   "display_name": "Python 3",
   "language": "python",
   "name": "python3"
  },
  "language_info": {
   "codemirror_mode": {
    "name": "ipython",
    "version": 3
   },
   "file_extension": ".py",
   "mimetype": "text/x-python",
   "name": "python",
   "nbconvert_exporter": "python",
   "pygments_lexer": "ipython3",
   "version": "3.8.8"
  }
 },
 "nbformat": 4,
 "nbformat_minor": 5
}
